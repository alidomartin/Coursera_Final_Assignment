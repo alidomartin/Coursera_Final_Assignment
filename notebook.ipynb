{
  "metadata": {
    "kernelspec": {
      "name": "python",
      "display_name": "Python (Pyodide)",
      "language": "python"
    },
    "language_info": {
      "codemirror_mode": {
        "name": "python",
        "version": 3
      },
      "file_extension": ".py",
      "mimetype": "text/x-python",
      "name": "python",
      "nbconvert_exporter": "python",
      "pygments_lexer": "ipython3",
      "version": "3.8"
    }
  },
  "nbformat_minor": 4,
  "nbformat": 4,
  "cells": [
    {
      "cell_type": "code",
      "source": "# My Jupyter Notebook on Coursera",
      "metadata": {
        "trusted": true
      },
      "outputs": [],
      "execution_count": 1
    },
    {
      "cell_type": "markdown",
      "source": "## Introduction\n- Name: Martin\n- Current Occupation: Sports Scientist\n- The purpose of this notebook is to demonstrate my skills in using Jupyter Notebook with Python (Pyodide).",
      "metadata": {}
    },
    {
      "cell_type": "code",
      "source": "print(\"Hello Coursera, I’m learning Jupyter Notebook using Python (Pyodide)!\")",
      "metadata": {
        "trusted": true
      },
      "outputs": [
        {
          "name": "stdout",
          "text": "Hello Coursera, I’m learning Jupyter Notebook using Python (Pyodide)!\n",
          "output_type": "stream"
        }
      ],
      "execution_count": 2
    },
    {
      "cell_type": "markdown",
      "source": "### What I have learned:\n- How to use Jupyter Notebook\n- Basics of Python programming with Pyodide\n- Open-source tools for data science",
      "metadata": {}
    },
    {
      "cell_type": "code",
      "source": "# Simple addition\na = 15\nb = 30\nsum = a + b\nsum",
      "metadata": {
        "trusted": true
      },
      "outputs": [
        {
          "execution_count": 3,
          "output_type": "execute_result",
          "data": {
            "text/plain": "45"
          },
          "metadata": {}
        }
      ],
      "execution_count": 3
    },
    {
      "cell_type": "code",
      "source": "",
      "metadata": {
        "trusted": true
      },
      "outputs": [],
      "execution_count": null
    }
  ]
}